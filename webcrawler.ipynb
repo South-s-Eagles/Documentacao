{
 "cells": [
  {
   "cell_type": "markdown",
   "metadata": {},
   "source": [
    "## Credenciais"
   ]
  },
  {
   "cell_type": "code",
   "execution_count": 1,
   "metadata": {},
   "outputs": [],
   "source": [
    "nome_usuario = \"\"\n",
    "senha_usuario = \"\""
   ]
  },
  {
   "cell_type": "markdown",
   "metadata": {},
   "source": [
    "## Codigo"
   ]
  },
  {
   "cell_type": "code",
   "execution_count": 11,
   "metadata": {},
   "outputs": [
    {
     "name": "stdout",
     "output_type": "stream",
     "text": [
      "{'texto': 'Preste atenção na sua dor.\\n\\nCom ferimentos com ralar o joelho ou cortes, percebemos o que causa a dor e cuidamos dela. Mas quando o sofrimento é emocional, nos distraímos, e não prestamos atenção na dor. \\n\\n#psicologia #saúdemental #estresse', 'sentimento': {'neg': 0.0, 'neu': 1.0, 'pos': 0.0, 'compound': 0.0}}\n",
      "{'texto': 'Redução da #ansiedade e #estresse com #hipnoterapia.\\n\\nEntre em contato e agende seu horário. \\n\\nhttp://linktr.ee/samej', 'sentimento': {'neg': 0.0, 'neu': 1.0, 'pos': 0.0, 'compound': 0.0}}\n",
      "{'texto': 'Deveríamos rezá-la diariamente: a “Oração contra o Stress”!\\nPublicada em: http://wp.me/p4RTuC-Bbn\\n.\\n#stress #fé #oração #estresse #relax', 'sentimento': {'neg': 0.133, 'neu': 0.715, 'pos': 0.152, 'compound': 0.1007}}\n",
      "{'texto': '#Estresse #Ansiedade #Autoajuda #Terapia #Autoestima #desenvolvimento #relacionamento #saudemetal #fé  #espiritualidade #depressao #amor #resiliência #recomeço #dedicação #Equilíbrio #AutoCuidado #Gratidão #CrescimentoPessoal #pazinterior  #superação #inspiração #motivacional', 'sentimento': {'neg': 0.0, 'neu': 0.846, 'pos': 0.154, 'compound': 0.6124}}\n",
      "{'texto': '#PoesiaDeclamada #ABPoeta #PoemaDeclamado #poesia #poema #sarau #recital #jogral #recitarpoesia #recitarpoema #joker #coringa #desequilibrado #cansado #cansadodetudo #burnout #estresse #estressado #vidaestresante #esquizofrenia #desequilibrioemocional #desequilibriomental', 'sentimento': {'neg': 0.0, 'neu': 0.933, 'pos': 0.067, 'compound': 0.128}}\n",
      "                                               texto  \\\n",
      "0  Preste atenção na sua dor.\\n\\nCom ferimentos c...   \n",
      "1  Redução da #ansiedade e #estresse com #hipnote...   \n",
      "2  Deveríamos rezá-la diariamente: a “Oração cont...   \n",
      "3  #Estresse #Ansiedade #Autoajuda #Terapia #Auto...   \n",
      "4  #PoesiaDeclamada #ABPoeta #PoemaDeclamado #poe...   \n",
      "\n",
      "                                          sentimento  \n",
      "0  {'neg': 0.0, 'neu': 1.0, 'pos': 0.0, 'compound...  \n",
      "1  {'neg': 0.0, 'neu': 1.0, 'pos': 0.0, 'compound...  \n",
      "2  {'neg': 0.133, 'neu': 0.715, 'pos': 0.152, 'co...  \n",
      "3  {'neg': 0.0, 'neu': 0.846, 'pos': 0.154, 'comp...  \n",
      "4  {'neg': 0.0, 'neu': 0.933, 'pos': 0.067, 'comp...  \n"
     ]
    }
   ],
   "source": [
    "import pandas as pd\n",
    "from selenium import webdriver\n",
    "from selenium.webdriver.chrome.service import Service\n",
    "from selenium.webdriver.common.by import By\n",
    "from selenium.webdriver.common.keys import Keys\n",
    "import time\n",
    "from vaderSentiment.vaderSentiment import SentimentIntensityAnalyzer\n",
    "\n",
    "def extrair_tweet_e_sentimento(tweet):\n",
    "  texto_tweet = tweet.find_element(By.CSS_SELECTOR, \"div[data-testid='tweetText']\").text\n",
    "  sentimento = analyzer.polarity_scores(texto_tweet)\n",
    "  return {\"texto\": texto_tweet, \"sentimento\": sentimento}\n",
    "\n",
    "service = Service()\n",
    "options = webdriver.ChromeOptions()\n",
    "driver = webdriver.Chrome(service=service, options=options)\n",
    "analyzer = SentimentIntensityAnalyzer()\n",
    "\n",
    "\n",
    "driver.get(\"https://twitter.com/\")\n",
    "time.sleep(2)\n",
    "login = driver.find_element(By.LINK_TEXT, \"Entrar\")\n",
    "login.click()\n",
    "time.sleep(3)\n",
    "usuario = driver.find_element(By.CSS_SELECTOR, \"div.css-175oi2r input\")\n",
    "usuario.send_keys(nome_usuario)\n",
    "usuario.send_keys(Keys.ENTER)\n",
    "time.sleep(3)\n",
    "senha = driver.find_element(By.XPATH, \"//input[@autocomplete='current-password']\")\n",
    "senha.send_keys(senha_usuario)\n",
    "senha.send_keys(Keys.ENTER)\n",
    "time.sleep(3)\n",
    "campo_pesquisa = driver.find_element(By.CSS_SELECTOR, \"div.css-146c3p1 input\")\n",
    "# NOTE mexer aqui para colocar o que contem a palavra\n",
    "campo_pesquisa.send_keys(\"O corinthians me steisoou\")\n",
    "campo_pesquisa.send_keys(Keys.ENTER)\n",
    "time.sleep(5)\n",
    "\n",
    "lista_tweets = []\n",
    "tweets = driver.find_elements(By.TAG_NAME, \"article\")\n",
    "for tweet in tweets:\n",
    "  dados_tweet = extrair_tweet_e_sentimento(tweet)\n",
    "  print(dados_tweet)\n",
    "  lista_tweets.append(dados_tweet)\n",
    "\n",
    "df_tweets = pd.DataFrame(lista_tweets)\n",
    "df_tweets.to_csv(\"tweets_estresse.csv\", index=False)\n",
    "\n",
    "\n",
    "driver.quit()\n",
    "\n"
   ]
  }
 ],
 "metadata": {
  "kernelspec": {
   "display_name": "Python 3",
   "language": "python",
   "name": "python3"
  },
  "language_info": {
   "codemirror_mode": {
    "name": "ipython",
    "version": 3
   },
   "file_extension": ".py",
   "mimetype": "text/x-python",
   "name": "python",
   "nbconvert_exporter": "python",
   "pygments_lexer": "ipython3",
   "version": "3.12.3"
  }
 },
 "nbformat": 4,
 "nbformat_minor": 2
}
